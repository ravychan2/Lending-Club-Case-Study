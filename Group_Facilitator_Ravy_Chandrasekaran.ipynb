{
 "cells": [
  {
   "cell_type": "markdown",
   "id": "7cd888f3",
   "metadata": {},
   "source": [
    "# Lending Club Case Study"
   ]
  },
  {
   "cell_type": "markdown",
   "id": "1ceec064",
   "metadata": {},
   "source": [
    "### Business Objectives\n",
    "\n",
    "This company is the largest online loan marketplace, facilitating personal loans, business loans, and financing of medical procedures. Borrowers can easily access lower interest rate loans through a fast online interface. \n",
    "\n",
    " \n",
    "\n",
    "Like most other lending companies, lending loans to ‘risky’ applicants is the largest source of financial loss (called credit loss). The credit loss is the amount of money lost by the lender when the borrower refuses to pay or runs away with the money owed. In other words, borrowers who default cause the largest amount of loss to the lenders. In this case, the customers labelled as 'charged-off' are the 'defaulters'. \n",
    "\n",
    " \n",
    "\n",
    "If one is able to identify these risky loan applicants, then such loans can be reduced thereby cutting down the amount of credit loss. Identification of such applicants using EDA is the aim of this case study.\n",
    "\n",
    " \n",
    "\n",
    "In other words, the company wants to understand the driving factors (or driver variables) behind loan default, i.e. the variables which are strong indicators of default.  The company can utilise this knowledge for its portfolio and risk assessment. \n"
   ]
  },
  {
   "cell_type": "code",
   "execution_count": 160,
   "id": "a0787be4",
   "metadata": {},
   "outputs": [],
   "source": [
    "# Importing all the necessary libraries for this case study\n",
    "\n",
    "import numpy as np\n",
    "import pandas as pd\n",
    "import matplotlib.pyplot as plt\n",
    "import seaborn as sns\n",
    "import warnings\n",
    "warnings.filterwarnings(\"ignore\")"
   ]
  },
  {
   "cell_type": "markdown",
   "id": "d48d9070",
   "metadata": {},
   "source": [
    "#### Understanding & Reading Data Set"
   ]
  },
  {
   "cell_type": "code",
   "execution_count": 161,
   "id": "619e940f",
   "metadata": {},
   "outputs": [
    {
     "data": {
      "text/html": [
       "<div>\n",
       "<style scoped>\n",
       "    .dataframe tbody tr th:only-of-type {\n",
       "        vertical-align: middle;\n",
       "    }\n",
       "\n",
       "    .dataframe tbody tr th {\n",
       "        vertical-align: top;\n",
       "    }\n",
       "\n",
       "    .dataframe thead th {\n",
       "        text-align: right;\n",
       "    }\n",
       "</style>\n",
       "<table border=\"1\" class=\"dataframe\">\n",
       "  <thead>\n",
       "    <tr style=\"text-align: right;\">\n",
       "      <th></th>\n",
       "      <th>id</th>\n",
       "      <th>member_id</th>\n",
       "      <th>loan_amnt</th>\n",
       "      <th>funded_amnt</th>\n",
       "      <th>funded_amnt_inv</th>\n",
       "      <th>term</th>\n",
       "      <th>int_rate</th>\n",
       "      <th>installment</th>\n",
       "      <th>grade</th>\n",
       "      <th>sub_grade</th>\n",
       "      <th>...</th>\n",
       "      <th>num_tl_90g_dpd_24m</th>\n",
       "      <th>num_tl_op_past_12m</th>\n",
       "      <th>pct_tl_nvr_dlq</th>\n",
       "      <th>percent_bc_gt_75</th>\n",
       "      <th>pub_rec_bankruptcies</th>\n",
       "      <th>tax_liens</th>\n",
       "      <th>tot_hi_cred_lim</th>\n",
       "      <th>total_bal_ex_mort</th>\n",
       "      <th>total_bc_limit</th>\n",
       "      <th>total_il_high_credit_limit</th>\n",
       "    </tr>\n",
       "  </thead>\n",
       "  <tbody>\n",
       "    <tr>\n",
       "      <th>0</th>\n",
       "      <td>1077501</td>\n",
       "      <td>1296599</td>\n",
       "      <td>5000</td>\n",
       "      <td>5000</td>\n",
       "      <td>4975.0</td>\n",
       "      <td>36 months</td>\n",
       "      <td>10.65%</td>\n",
       "      <td>162.87</td>\n",
       "      <td>B</td>\n",
       "      <td>B2</td>\n",
       "      <td>...</td>\n",
       "      <td>NaN</td>\n",
       "      <td>NaN</td>\n",
       "      <td>NaN</td>\n",
       "      <td>NaN</td>\n",
       "      <td>0.0</td>\n",
       "      <td>0.0</td>\n",
       "      <td>NaN</td>\n",
       "      <td>NaN</td>\n",
       "      <td>NaN</td>\n",
       "      <td>NaN</td>\n",
       "    </tr>\n",
       "    <tr>\n",
       "      <th>1</th>\n",
       "      <td>1077430</td>\n",
       "      <td>1314167</td>\n",
       "      <td>2500</td>\n",
       "      <td>2500</td>\n",
       "      <td>2500.0</td>\n",
       "      <td>60 months</td>\n",
       "      <td>15.27%</td>\n",
       "      <td>59.83</td>\n",
       "      <td>C</td>\n",
       "      <td>C4</td>\n",
       "      <td>...</td>\n",
       "      <td>NaN</td>\n",
       "      <td>NaN</td>\n",
       "      <td>NaN</td>\n",
       "      <td>NaN</td>\n",
       "      <td>0.0</td>\n",
       "      <td>0.0</td>\n",
       "      <td>NaN</td>\n",
       "      <td>NaN</td>\n",
       "      <td>NaN</td>\n",
       "      <td>NaN</td>\n",
       "    </tr>\n",
       "    <tr>\n",
       "      <th>2</th>\n",
       "      <td>1077175</td>\n",
       "      <td>1313524</td>\n",
       "      <td>2400</td>\n",
       "      <td>2400</td>\n",
       "      <td>2400.0</td>\n",
       "      <td>36 months</td>\n",
       "      <td>15.96%</td>\n",
       "      <td>84.33</td>\n",
       "      <td>C</td>\n",
       "      <td>C5</td>\n",
       "      <td>...</td>\n",
       "      <td>NaN</td>\n",
       "      <td>NaN</td>\n",
       "      <td>NaN</td>\n",
       "      <td>NaN</td>\n",
       "      <td>0.0</td>\n",
       "      <td>0.0</td>\n",
       "      <td>NaN</td>\n",
       "      <td>NaN</td>\n",
       "      <td>NaN</td>\n",
       "      <td>NaN</td>\n",
       "    </tr>\n",
       "    <tr>\n",
       "      <th>3</th>\n",
       "      <td>1076863</td>\n",
       "      <td>1277178</td>\n",
       "      <td>10000</td>\n",
       "      <td>10000</td>\n",
       "      <td>10000.0</td>\n",
       "      <td>36 months</td>\n",
       "      <td>13.49%</td>\n",
       "      <td>339.31</td>\n",
       "      <td>C</td>\n",
       "      <td>C1</td>\n",
       "      <td>...</td>\n",
       "      <td>NaN</td>\n",
       "      <td>NaN</td>\n",
       "      <td>NaN</td>\n",
       "      <td>NaN</td>\n",
       "      <td>0.0</td>\n",
       "      <td>0.0</td>\n",
       "      <td>NaN</td>\n",
       "      <td>NaN</td>\n",
       "      <td>NaN</td>\n",
       "      <td>NaN</td>\n",
       "    </tr>\n",
       "    <tr>\n",
       "      <th>4</th>\n",
       "      <td>1075358</td>\n",
       "      <td>1311748</td>\n",
       "      <td>3000</td>\n",
       "      <td>3000</td>\n",
       "      <td>3000.0</td>\n",
       "      <td>60 months</td>\n",
       "      <td>12.69%</td>\n",
       "      <td>67.79</td>\n",
       "      <td>B</td>\n",
       "      <td>B5</td>\n",
       "      <td>...</td>\n",
       "      <td>NaN</td>\n",
       "      <td>NaN</td>\n",
       "      <td>NaN</td>\n",
       "      <td>NaN</td>\n",
       "      <td>0.0</td>\n",
       "      <td>0.0</td>\n",
       "      <td>NaN</td>\n",
       "      <td>NaN</td>\n",
       "      <td>NaN</td>\n",
       "      <td>NaN</td>\n",
       "    </tr>\n",
       "  </tbody>\n",
       "</table>\n",
       "<p>5 rows × 111 columns</p>\n",
       "</div>"
      ],
      "text/plain": [
       "        id  member_id  loan_amnt  funded_amnt  funded_amnt_inv        term  \\\n",
       "0  1077501    1296599       5000         5000           4975.0   36 months   \n",
       "1  1077430    1314167       2500         2500           2500.0   60 months   \n",
       "2  1077175    1313524       2400         2400           2400.0   36 months   \n",
       "3  1076863    1277178      10000        10000          10000.0   36 months   \n",
       "4  1075358    1311748       3000         3000           3000.0   60 months   \n",
       "\n",
       "  int_rate  installment grade sub_grade  ... num_tl_90g_dpd_24m  \\\n",
       "0   10.65%       162.87     B        B2  ...                NaN   \n",
       "1   15.27%        59.83     C        C4  ...                NaN   \n",
       "2   15.96%        84.33     C        C5  ...                NaN   \n",
       "3   13.49%       339.31     C        C1  ...                NaN   \n",
       "4   12.69%        67.79     B        B5  ...                NaN   \n",
       "\n",
       "  num_tl_op_past_12m pct_tl_nvr_dlq  percent_bc_gt_75 pub_rec_bankruptcies  \\\n",
       "0                NaN            NaN               NaN                  0.0   \n",
       "1                NaN            NaN               NaN                  0.0   \n",
       "2                NaN            NaN               NaN                  0.0   \n",
       "3                NaN            NaN               NaN                  0.0   \n",
       "4                NaN            NaN               NaN                  0.0   \n",
       "\n",
       "  tax_liens tot_hi_cred_lim total_bal_ex_mort total_bc_limit  \\\n",
       "0       0.0             NaN               NaN            NaN   \n",
       "1       0.0             NaN               NaN            NaN   \n",
       "2       0.0             NaN               NaN            NaN   \n",
       "3       0.0             NaN               NaN            NaN   \n",
       "4       0.0             NaN               NaN            NaN   \n",
       "\n",
       "  total_il_high_credit_limit  \n",
       "0                        NaN  \n",
       "1                        NaN  \n",
       "2                        NaN  \n",
       "3                        NaN  \n",
       "4                        NaN  \n",
       "\n",
       "[5 rows x 111 columns]"
      ]
     },
     "execution_count": 161,
     "metadata": {},
     "output_type": "execute_result"
    }
   ],
   "source": [
    "# Reading the dataset and displaying the first five rows\n",
    "\n",
    "ln = pd.read_csv(\"loan.csv\")\n",
    "ln.head()"
   ]
  },
  {
   "cell_type": "code",
   "execution_count": 162,
   "id": "8fc14328",
   "metadata": {},
   "outputs": [
    {
     "data": {
      "text/plain": [
       "(39717, 111)"
      ]
     },
     "execution_count": 162,
     "metadata": {},
     "output_type": "execute_result"
    }
   ],
   "source": [
    "# Display the number of rows and columns\n",
    "ln.shape"
   ]
  },
  {
   "cell_type": "markdown",
   "id": "1aa6337a",
   "metadata": {},
   "source": [
    "#### Data Cleaning and Filling Missing values"
   ]
  },
  {
   "cell_type": "markdown",
   "id": "bdc18ac4",
   "metadata": {},
   "source": [
    "Dropping unwanted Rows, Columns and replacing null values with most appropriate values "
   ]
  },
  {
   "cell_type": "code",
   "execution_count": 163,
   "id": "ae0ae9a2",
   "metadata": {},
   "outputs": [
    {
     "data": {
      "text/plain": [
       "id                                0\n",
       "member_id                         0\n",
       "loan_amnt                         0\n",
       "funded_amnt                       0\n",
       "funded_amnt_inv                   0\n",
       "                              ...  \n",
       "tax_liens                        39\n",
       "tot_hi_cred_lim               39717\n",
       "total_bal_ex_mort             39717\n",
       "total_bc_limit                39717\n",
       "total_il_high_credit_limit    39717\n",
       "Length: 111, dtype: int64"
      ]
     },
     "execution_count": 163,
     "metadata": {},
     "output_type": "execute_result"
    }
   ],
   "source": [
    "# checking for columns that have null-values with the count using isnull & sum function\n",
    "ln.isnull().sum()"
   ]
  },
  {
   "cell_type": "code",
   "execution_count": 164,
   "id": "0ccc6c3a",
   "metadata": {},
   "outputs": [
    {
     "name": "stdout",
     "output_type": "stream",
     "text": [
      "Shape of the loan dataset before droping null value columns\n",
      "(39717, 111)\n",
      "Shape of the loan dataset after droping null value columns\n",
      "(39717, 57)\n"
     ]
    }
   ],
   "source": [
    "# Dropping all the columns which dont have a single value\n",
    "\n",
    "print(\"Shape of the loan dataset before droping null value columns\")\n",
    "print(ln.shape)\n",
    "ln.dropna(axis='columns', how='all', thresh=None, subset=None, inplace=True)\n",
    "print(\"Shape of the loan dataset after droping null value columns\")\n",
    "print(ln.shape)"
   ]
  },
  {
   "cell_type": "code",
   "execution_count": 165,
   "id": "d2707255",
   "metadata": {},
   "outputs": [],
   "source": [
    "# Observation : There are close to 54 columns doesnt have any values.  \n",
    "# These columns will not be used even if we fill with some random values.  \n",
    "# Dropping them wont affect the analysis of the dataset and dropped all those columns\n"
   ]
  },
  {
   "cell_type": "code",
   "execution_count": 166,
   "id": "d83f6e0f",
   "metadata": {},
   "outputs": [
    {
     "data": {
      "text/plain": [
       "id                                0\n",
       "member_id                         0\n",
       "loan_amnt                         0\n",
       "funded_amnt                       0\n",
       "funded_amnt_inv                   0\n",
       "term                              0\n",
       "int_rate                          0\n",
       "installment                       0\n",
       "grade                             0\n",
       "sub_grade                         0\n",
       "emp_title                      2459\n",
       "emp_length                     1075\n",
       "home_ownership                    0\n",
       "annual_inc                        0\n",
       "verification_status               0\n",
       "issue_d                           0\n",
       "loan_status                       0\n",
       "pymnt_plan                        0\n",
       "url                               0\n",
       "desc                          12940\n",
       "purpose                           0\n",
       "title                            11\n",
       "zip_code                          0\n",
       "addr_state                        0\n",
       "dti                               0\n",
       "delinq_2yrs                       0\n",
       "earliest_cr_line                  0\n",
       "inq_last_6mths                    0\n",
       "mths_since_last_delinq        25682\n",
       "mths_since_last_record        36931\n",
       "open_acc                          0\n",
       "pub_rec                           0\n",
       "revol_bal                         0\n",
       "revol_util                       50\n",
       "total_acc                         0\n",
       "initial_list_status               0\n",
       "out_prncp                         0\n",
       "out_prncp_inv                     0\n",
       "total_pymnt                       0\n",
       "total_pymnt_inv                   0\n",
       "total_rec_prncp                   0\n",
       "total_rec_int                     0\n",
       "total_rec_late_fee                0\n",
       "recoveries                        0\n",
       "collection_recovery_fee           0\n",
       "last_pymnt_d                     71\n",
       "last_pymnt_amnt                   0\n",
       "next_pymnt_d                  38577\n",
       "last_credit_pull_d                2\n",
       "collections_12_mths_ex_med       56\n",
       "policy_code                       0\n",
       "application_type                  0\n",
       "acc_now_delinq                    0\n",
       "chargeoff_within_12_mths         56\n",
       "delinq_amnt                       0\n",
       "pub_rec_bankruptcies            697\n",
       "tax_liens                        39\n",
       "dtype: int64"
      ]
     },
     "execution_count": 166,
     "metadata": {},
     "output_type": "execute_result"
    }
   ],
   "source": [
    "# check for columns which having null-values again after first level of clean-up\n",
    "ln.isnull().sum()"
   ]
  },
  {
   "cell_type": "code",
   "execution_count": 167,
   "id": "b53625bc",
   "metadata": {},
   "outputs": [
    {
     "name": "stdout",
     "output_type": "stream",
     "text": [
      "Number of the rows before dropping the rows for emp_length and emp_title \n",
      "(39717, 57)\n",
      "Shape after droping null rows for emp_length and emp_title\n",
      "(37202, 57)\n"
     ]
    }
   ],
   "source": [
    "#Checking for Null values for emp_length, emp_title fields and dropping those rows\n",
    "\n",
    "print(\"Number of the rows before dropping the rows for emp_length and emp_title \")\n",
    "print(ln.shape)\n",
    "\n",
    "ln = ln[~ln.emp_length.isnull()]\n",
    "ln = ln[~ln.emp_title.isnull()]\n",
    "\n",
    "# Drop all the rows with empty emp_length and emp_title\n",
    "print(\"Shape after droping null rows for emp_length and emp_title\")\n",
    "print(ln.shape)"
   ]
  },
  {
   "cell_type": "code",
   "execution_count": 168,
   "id": "e3457397",
   "metadata": {},
   "outputs": [
    {
     "name": "stdout",
     "output_type": "stream",
     "text": [
      "Shape of the dataset before droping null rows for title \n",
      "(37202, 57)\n",
      "Shape of the dataset after droping null rows for title\n",
      "(37193, 57)\n"
     ]
    }
   ],
   "source": [
    "#Title column has some null values, dropping them to clean up the Title column\n",
    "\n",
    "print(\"Shape of the dataset before droping null rows for title \")\n",
    "print(ln.shape)\n",
    "\n",
    "ln = ln[~ln.title.isnull()]\n",
    "\n",
    "print(\"Shape of the dataset after droping null rows for title\")\n",
    "print(ln.shape)"
   ]
  },
  {
   "cell_type": "code",
   "execution_count": 169,
   "id": "564542a2",
   "metadata": {},
   "outputs": [
    {
     "data": {
      "text/plain": [
       "id                                0\n",
       "member_id                         0\n",
       "loan_amnt                         0\n",
       "funded_amnt                       0\n",
       "funded_amnt_inv                   0\n",
       "term                              0\n",
       "int_rate                          0\n",
       "installment                       0\n",
       "grade                             0\n",
       "sub_grade                         0\n",
       "emp_title                         0\n",
       "emp_length                        0\n",
       "home_ownership                    0\n",
       "annual_inc                        0\n",
       "verification_status               0\n",
       "issue_d                           0\n",
       "loan_status                       0\n",
       "pymnt_plan                        0\n",
       "url                               0\n",
       "desc                          12063\n",
       "purpose                           0\n",
       "title                             0\n",
       "zip_code                          0\n",
       "addr_state                        0\n",
       "dti                               0\n",
       "delinq_2yrs                       0\n",
       "earliest_cr_line                  0\n",
       "inq_last_6mths                    0\n",
       "mths_since_last_delinq        24011\n",
       "mths_since_last_record        34645\n",
       "open_acc                          0\n",
       "pub_rec                           0\n",
       "revol_bal                         0\n",
       "revol_util                       46\n",
       "total_acc                         0\n",
       "initial_list_status               0\n",
       "out_prncp                         0\n",
       "out_prncp_inv                     0\n",
       "total_pymnt                       0\n",
       "total_pymnt_inv                   0\n",
       "total_rec_prncp                   0\n",
       "total_rec_int                     0\n",
       "total_rec_late_fee                0\n",
       "recoveries                        0\n",
       "collection_recovery_fee           0\n",
       "last_pymnt_d                     64\n",
       "last_pymnt_amnt                   0\n",
       "next_pymnt_d                  36127\n",
       "last_credit_pull_d                0\n",
       "collections_12_mths_ex_med       47\n",
       "policy_code                       0\n",
       "application_type                  0\n",
       "acc_now_delinq                    0\n",
       "chargeoff_within_12_mths         47\n",
       "delinq_amnt                       0\n",
       "pub_rec_bankruptcies            654\n",
       "tax_liens                        32\n",
       "dtype: int64"
      ]
     },
     "execution_count": 169,
     "metadata": {},
     "output_type": "execute_result"
    }
   ],
   "source": [
    "# check for columns which having null-values and also shows the count \n",
    "ln.isnull().sum()"
   ]
  },
  {
   "cell_type": "code",
   "execution_count": 170,
   "id": "28708a5c",
   "metadata": {},
   "outputs": [
    {
     "data": {
      "text/plain": [
       "1          Borrower added on 12/22/11 > I plan to use t...\n",
       "3          Borrower added on 12/21/11 > to pay for prop...\n",
       "4          Borrower added on 12/21/11 > I plan on combi...\n",
       "5                                                      NaN\n",
       "6          Borrower added on 12/18/11 > I am planning o...\n",
       "                               ...                        \n",
       "39710                                                  NaN\n",
       "39711    I'd like to shift some credit card debt so it ...\n",
       "39712    Our current gutter system on our home is old a...\n",
       "39713    The rate of interest and fees incurred by carr...\n",
       "39716    I plan to consolidate over $7,000 of debt: a c...\n",
       "Name: desc, Length: 37193, dtype: object"
      ]
     },
     "execution_count": 170,
     "metadata": {},
     "output_type": "execute_result"
    }
   ],
   "source": [
    "#Displaying the Desc field which has many null values\n",
    "ln['desc']"
   ]
  },
  {
   "cell_type": "code",
   "execution_count": 171,
   "id": "b6e46bb3",
   "metadata": {},
   "outputs": [
    {
     "name": "stdout",
     "output_type": "stream",
     "text": [
      "Shape of the dataset after desc column deleted\n",
      "(37193, 56)\n"
     ]
    }
   ],
   "source": [
    "# Desc has the details of the borrower and which may not be used for the analysis and dropping the column\n",
    "ln = ln.drop(['desc'], axis = 1)\n",
    "print(\"Shape of the dataset after desc column deleted\")\n",
    "print(ln.shape)"
   ]
  },
  {
   "cell_type": "code",
   "execution_count": 172,
   "id": "e2dfe769",
   "metadata": {},
   "outputs": [],
   "source": [
    "# mths_since_last_delinq,mths_since_last_record has many null values and the columns have many 0s in it and filling with 0.0\n",
    "ln['mths_since_last_delinq'] = ln['mths_since_last_delinq'].fillna(0.0)\n",
    "ln['mths_since_last_record'] = ln['mths_since_last_record'].fillna(0.0)"
   ]
  },
  {
   "cell_type": "code",
   "execution_count": 173,
   "id": "49464452",
   "metadata": {},
   "outputs": [
    {
     "data": {
      "text/plain": [
       "id                                0\n",
       "member_id                         0\n",
       "loan_amnt                         0\n",
       "funded_amnt                       0\n",
       "funded_amnt_inv                   0\n",
       "term                              0\n",
       "int_rate                          0\n",
       "installment                       0\n",
       "grade                             0\n",
       "sub_grade                         0\n",
       "emp_title                         0\n",
       "emp_length                        0\n",
       "home_ownership                    0\n",
       "annual_inc                        0\n",
       "verification_status               0\n",
       "issue_d                           0\n",
       "loan_status                       0\n",
       "pymnt_plan                        0\n",
       "url                               0\n",
       "purpose                           0\n",
       "title                             0\n",
       "zip_code                          0\n",
       "addr_state                        0\n",
       "dti                               0\n",
       "delinq_2yrs                       0\n",
       "earliest_cr_line                  0\n",
       "inq_last_6mths                    0\n",
       "mths_since_last_delinq            0\n",
       "mths_since_last_record            0\n",
       "open_acc                          0\n",
       "pub_rec                           0\n",
       "revol_bal                         0\n",
       "revol_util                       46\n",
       "total_acc                         0\n",
       "initial_list_status               0\n",
       "out_prncp                         0\n",
       "out_prncp_inv                     0\n",
       "total_pymnt                       0\n",
       "total_pymnt_inv                   0\n",
       "total_rec_prncp                   0\n",
       "total_rec_int                     0\n",
       "total_rec_late_fee                0\n",
       "recoveries                        0\n",
       "collection_recovery_fee           0\n",
       "last_pymnt_d                     64\n",
       "last_pymnt_amnt                   0\n",
       "next_pymnt_d                  36127\n",
       "last_credit_pull_d                0\n",
       "collections_12_mths_ex_med       47\n",
       "policy_code                       0\n",
       "application_type                  0\n",
       "acc_now_delinq                    0\n",
       "chargeoff_within_12_mths         47\n",
       "delinq_amnt                       0\n",
       "pub_rec_bankruptcies            654\n",
       "tax_liens                        32\n",
       "dtype: int64"
      ]
     },
     "execution_count": 173,
     "metadata": {},
     "output_type": "execute_result"
    }
   ],
   "source": [
    "# check for columns which having null-values and also shows the count\n",
    "ln.isnull().sum()"
   ]
  },
  {
   "cell_type": "code",
   "execution_count": 174,
   "id": "362213ca",
   "metadata": {},
   "outputs": [],
   "source": [
    "# Check for revol_util column and removing % at last and giving \n",
    "\n",
    "ln['revol_util']\n",
    "ln['revol_util'] = ln['revol_util'].str.rstrip('%')\n",
    "\n",
    "# Close to 883 rows with 0s - remove those rows with null values \n",
    "ln = ln[~ln.revol_util.isnull()]"
   ]
  },
  {
   "cell_type": "code",
   "execution_count": 175,
   "id": "6c459835",
   "metadata": {},
   "outputs": [
    {
     "name": "stdout",
     "output_type": "stream",
     "text": [
      "Dataset Size after removing the last_pymnt_d column\n",
      "(37087, 56)\n",
      "Dataset Size after dropping next_pymnt_d column\n",
      "(37087, 55)\n"
     ]
    }
   ],
   "source": [
    "# The column last_pymnt_d have some missing dates - dropping the rows which are having empty values\n",
    "ln['last_pymnt_d']\n",
    "ln = ln[~ln.last_pymnt_d.isnull()]\n",
    "\n",
    "print(\"Dataset Size after removing the last_pymnt_d column\")\n",
    "print(ln.shape)\n",
    "\n",
    "# The column next_pymnt_d has missing dates - dropping the rows which are having empty values\n",
    "\n",
    "ln['next_pymnt_d']\n",
    "ln = ln.drop(['next_pymnt_d'], axis = 1)\n",
    "\n",
    "print(\"Dataset Size after dropping next_pymnt_d column\")\n",
    "print(ln.shape)"
   ]
  },
  {
   "cell_type": "code",
   "execution_count": 176,
   "id": "1749400f",
   "metadata": {},
   "outputs": [
    {
     "name": "stdout",
     "output_type": "stream",
     "text": [
      "Dataset Size after dropping the zip_code column\n",
      "(37087, 54)\n"
     ]
    }
   ],
   "source": [
    "#check for zip_code and dropping the column.\n",
    "\n",
    "ln['zip_code']\n",
    "ln = ln.drop(['zip_code'], axis = 1)\n",
    "print(\"Dataset Size after dropping the zip_code column\")\n",
    "print(ln.shape)"
   ]
  },
  {
   "cell_type": "code",
   "execution_count": 177,
   "id": "b3cc7513",
   "metadata": {},
   "outputs": [],
   "source": [
    "#Analysing collections_12_mths_ex_med column - many values has 0.0 and filling the null with the common value 0.0\n",
    "\n",
    "ln['collections_12_mths_ex_med'].value_counts()\n",
    "ln['collections_12_mths_ex_med'] = ln['collections_12_mths_ex_med'].fillna(0.0)\n",
    "\n",
    "#Analysing chargeoff_within_12_mths column - many values has 0.0 and filling the null with the common value 0.0\n",
    "ln['chargeoff_within_12_mths'].value_counts()\n",
    "ln['chargeoff_within_12_mths'] = ln['chargeoff_within_12_mths'].fillna(0.0)\n",
    "\n",
    "#Analysing tax_liens column - many values has 0.0 and filling the null with the common value 0.0\n",
    "ln['tax_liens'].value_counts()\n",
    "ln['tax_liens'] = ln['tax_liens'].fillna(0.0)\n",
    "\n",
    "#Analysing pub_rec_bankruptcies column - many values has 0.0 and filling the null with the common value 0.0\n",
    "ln['pub_rec_bankruptcies'].value_counts()\n",
    "ln['pub_rec_bankruptcies'] = ln['pub_rec_bankruptcies'].fillna(0.0)"
   ]
  },
  {
   "cell_type": "code",
   "execution_count": 178,
   "id": "f777d9ee",
   "metadata": {},
   "outputs": [
    {
     "data": {
      "text/plain": [
       "count    37087.000000\n",
       "mean         0.040688\n",
       "std          0.198522\n",
       "min          0.000000\n",
       "25%          0.000000\n",
       "50%          0.000000\n",
       "75%          0.000000\n",
       "max          2.000000\n",
       "Name: pub_rec_bankruptcies, dtype: float64"
      ]
     },
     "execution_count": 178,
     "metadata": {},
     "output_type": "execute_result"
    }
   ],
   "source": [
    "# Analysing the pub_rec_bankruptcies column for Mean, Quantiles\n",
    "ln['pub_rec_bankruptcies'].describe()"
   ]
  },
  {
   "cell_type": "code",
   "execution_count": 179,
   "id": "d7dc7093",
   "metadata": {},
   "outputs": [
    {
     "data": {
      "text/plain": [
       "id                            0\n",
       "member_id                     0\n",
       "loan_amnt                     0\n",
       "funded_amnt                   0\n",
       "funded_amnt_inv               0\n",
       "term                          0\n",
       "int_rate                      0\n",
       "installment                   0\n",
       "grade                         0\n",
       "sub_grade                     0\n",
       "emp_title                     0\n",
       "emp_length                    0\n",
       "home_ownership                0\n",
       "annual_inc                    0\n",
       "verification_status           0\n",
       "issue_d                       0\n",
       "loan_status                   0\n",
       "pymnt_plan                    0\n",
       "url                           0\n",
       "purpose                       0\n",
       "title                         0\n",
       "addr_state                    0\n",
       "dti                           0\n",
       "delinq_2yrs                   0\n",
       "earliest_cr_line              0\n",
       "inq_last_6mths                0\n",
       "mths_since_last_delinq        0\n",
       "mths_since_last_record        0\n",
       "open_acc                      0\n",
       "pub_rec                       0\n",
       "revol_bal                     0\n",
       "revol_util                    0\n",
       "total_acc                     0\n",
       "initial_list_status           0\n",
       "out_prncp                     0\n",
       "out_prncp_inv                 0\n",
       "total_pymnt                   0\n",
       "total_pymnt_inv               0\n",
       "total_rec_prncp               0\n",
       "total_rec_int                 0\n",
       "total_rec_late_fee            0\n",
       "recoveries                    0\n",
       "collection_recovery_fee       0\n",
       "last_pymnt_d                  0\n",
       "last_pymnt_amnt               0\n",
       "last_credit_pull_d            0\n",
       "collections_12_mths_ex_med    0\n",
       "policy_code                   0\n",
       "application_type              0\n",
       "acc_now_delinq                0\n",
       "chargeoff_within_12_mths      0\n",
       "delinq_amnt                   0\n",
       "pub_rec_bankruptcies          0\n",
       "tax_liens                     0\n",
       "dtype: int64"
      ]
     },
     "execution_count": 179,
     "metadata": {},
     "output_type": "execute_result"
    }
   ],
   "source": [
    "# check for columns which having null-values and also shows the count\n",
    "ln.isnull().sum()"
   ]
  },
  {
   "cell_type": "code",
   "execution_count": 180,
   "id": "c5c55b4e",
   "metadata": {},
   "outputs": [
    {
     "name": "stdout",
     "output_type": "stream",
     "text": [
      "<class 'pandas.core.frame.DataFrame'>\n",
      "Int64Index: 37087 entries, 1 to 39716\n",
      "Data columns (total 54 columns):\n",
      " #   Column                      Non-Null Count  Dtype  \n",
      "---  ------                      --------------  -----  \n",
      " 0   id                          37087 non-null  int64  \n",
      " 1   member_id                   37087 non-null  int64  \n",
      " 2   loan_amnt                   37087 non-null  int64  \n",
      " 3   funded_amnt                 37087 non-null  int64  \n",
      " 4   funded_amnt_inv             37087 non-null  float64\n",
      " 5   term                        37087 non-null  object \n",
      " 6   int_rate                    37087 non-null  object \n",
      " 7   installment                 37087 non-null  float64\n",
      " 8   grade                       37087 non-null  object \n",
      " 9   sub_grade                   37087 non-null  object \n",
      " 10  emp_title                   37087 non-null  object \n",
      " 11  emp_length                  37087 non-null  object \n",
      " 12  home_ownership              37087 non-null  object \n",
      " 13  annual_inc                  37087 non-null  float64\n",
      " 14  verification_status         37087 non-null  object \n",
      " 15  issue_d                     37087 non-null  object \n",
      " 16  loan_status                 37087 non-null  object \n",
      " 17  pymnt_plan                  37087 non-null  object \n",
      " 18  url                         37087 non-null  object \n",
      " 19  purpose                     37087 non-null  object \n",
      " 20  title                       37087 non-null  object \n",
      " 21  addr_state                  37087 non-null  object \n",
      " 22  dti                         37087 non-null  float64\n",
      " 23  delinq_2yrs                 37087 non-null  int64  \n",
      " 24  earliest_cr_line            37087 non-null  object \n",
      " 25  inq_last_6mths              37087 non-null  int64  \n",
      " 26  mths_since_last_delinq      37087 non-null  float64\n",
      " 27  mths_since_last_record      37087 non-null  float64\n",
      " 28  open_acc                    37087 non-null  int64  \n",
      " 29  pub_rec                     37087 non-null  int64  \n",
      " 30  revol_bal                   37087 non-null  int64  \n",
      " 31  revol_util                  37087 non-null  object \n",
      " 32  total_acc                   37087 non-null  int64  \n",
      " 33  initial_list_status         37087 non-null  object \n",
      " 34  out_prncp                   37087 non-null  float64\n",
      " 35  out_prncp_inv               37087 non-null  float64\n",
      " 36  total_pymnt                 37087 non-null  float64\n",
      " 37  total_pymnt_inv             37087 non-null  float64\n",
      " 38  total_rec_prncp             37087 non-null  float64\n",
      " 39  total_rec_int               37087 non-null  float64\n",
      " 40  total_rec_late_fee          37087 non-null  float64\n",
      " 41  recoveries                  37087 non-null  float64\n",
      " 42  collection_recovery_fee     37087 non-null  float64\n",
      " 43  last_pymnt_d                37087 non-null  object \n",
      " 44  last_pymnt_amnt             37087 non-null  float64\n",
      " 45  last_credit_pull_d          37087 non-null  object \n",
      " 46  collections_12_mths_ex_med  37087 non-null  float64\n",
      " 47  policy_code                 37087 non-null  int64  \n",
      " 48  application_type            37087 non-null  object \n",
      " 49  acc_now_delinq              37087 non-null  int64  \n",
      " 50  chargeoff_within_12_mths    37087 non-null  float64\n",
      " 51  delinq_amnt                 37087 non-null  int64  \n",
      " 52  pub_rec_bankruptcies        37087 non-null  float64\n",
      " 53  tax_liens                   37087 non-null  float64\n",
      "dtypes: float64(20), int64(13), object(21)\n",
      "memory usage: 15.6+ MB\n"
     ]
    }
   ],
   "source": [
    "#Checking the columns which are objects and that needs to be converted to numeric values\n",
    "ln.info()"
   ]
  },
  {
   "cell_type": "code",
   "execution_count": 181,
   "id": "b616037d",
   "metadata": {},
   "outputs": [],
   "source": [
    "# The column int_rate has % at the end and removing them and converting the object value to numeric\n",
    "ln['int_rate']\n",
    "ln['int_rate'] = ln['int_rate'].str.rstrip('%')\n",
    "ln.int_rate = ln.int_rate.astype(\"float64\")"
   ]
  },
  {
   "cell_type": "code",
   "execution_count": 182,
   "id": "5e8c943e",
   "metadata": {},
   "outputs": [],
   "source": [
    "# Check emp_length and using extract function take the numerical value and convert into int\n",
    "ln['emp_length']=ln.emp_length.str.extract('(\\d+)')\n",
    "ln.emp_length = ln.emp_length.astype(\"int64\")"
   ]
  },
  {
   "cell_type": "code",
   "execution_count": 183,
   "id": "1c23d601",
   "metadata": {},
   "outputs": [
    {
     "name": "stdout",
     "output_type": "stream",
     "text": [
      "1         1\n",
      "3        10\n",
      "4         1\n",
      "5         3\n",
      "6         8\n",
      "         ..\n",
      "39710     1\n",
      "39711     5\n",
      "39712     4\n",
      "39713     3\n",
      "39716     1\n",
      "Name: emp_length, Length: 37087, dtype: int64\n"
     ]
    }
   ],
   "source": [
    "# Checking the emp_length after extracting and converting\n",
    "print(ln.emp_length)"
   ]
  },
  {
   "cell_type": "code",
   "execution_count": 184,
   "id": "3787cae7",
   "metadata": {},
   "outputs": [
    {
     "name": "stdout",
     "output_type": "stream",
     "text": [
      "1        15.27\n",
      "3        13.49\n",
      "4        12.69\n",
      "5         7.90\n",
      "6        15.96\n",
      "         ...  \n",
      "39710     7.43\n",
      "39711     8.70\n",
      "39712     8.07\n",
      "39713    10.28\n",
      "39716    13.75\n",
      "Name: int_rate, Length: 37087, dtype: float64\n"
     ]
    }
   ],
   "source": [
    "# Checking the int_rate column after converting to numeric\n",
    "print(ln.int_rate)"
   ]
  },
  {
   "cell_type": "code",
   "execution_count": 185,
   "id": "6f6a7ab3",
   "metadata": {},
   "outputs": [
    {
     "name": "stdout",
     "output_type": "stream",
     "text": [
      "1         9.4\n",
      "3        21.0\n",
      "4        53.9\n",
      "5        28.3\n",
      "6        85.6\n",
      "         ... \n",
      "39710     0.6\n",
      "39711    23.0\n",
      "39712    13.1\n",
      "39713    26.9\n",
      "39716    51.5\n",
      "Name: revol_util, Length: 37087, dtype: float64\n"
     ]
    }
   ],
   "source": [
    "# Converting revol_util column to numeric value\n",
    "\n",
    "ln.revol_util = ln.revol_util.astype(\"float64\")\n",
    "print(ln.revol_util)"
   ]
  },
  {
   "cell_type": "code",
   "execution_count": 186,
   "id": "cdcefb7e",
   "metadata": {},
   "outputs": [
    {
     "data": {
      "text/plain": [
       "count    37087.000000\n",
       "mean         9.353089\n",
       "std          4.392291\n",
       "min          2.000000\n",
       "25%          6.000000\n",
       "50%          9.000000\n",
       "75%         12.000000\n",
       "max         44.000000\n",
       "Name: open_acc, dtype: float64"
      ]
     },
     "execution_count": 186,
     "metadata": {},
     "output_type": "execute_result"
    }
   ],
   "source": [
    "# Analysing the Mean, SD and Quantile values for open_acc column\n",
    "ln['open_acc'].describe()"
   ]
  },
  {
   "cell_type": "markdown",
   "id": "50c935f2",
   "metadata": {},
   "source": [
    "# Univariate analysis"
   ]
  },
  {
   "cell_type": "code",
   "execution_count": 187,
   "id": "9502eab3",
   "metadata": {},
   "outputs": [
    {
     "name": "stdout",
     "output_type": "stream",
     "text": [
      "count    3.708700e+04\n",
      "mean     6.930844e+04\n",
      "std      6.423179e+04\n",
      "min      4.000000e+03\n",
      "25%      4.167600e+04\n",
      "50%      6.000000e+04\n",
      "75%      8.300000e+04\n",
      "max      6.000000e+06\n",
      "Name: annual_inc, dtype: float64\n"
     ]
    },
    {
     "data": {
      "image/png": "[encoded data removed]",
      "text/plain": [
       "<Figure size 648x504 with 1 Axes>"
      ]
     },
     "metadata": {
      "needs_background": "light"
     },
     "output_type": "display_data"
    }
   ],
   "source": [
    "# Creating a box plot for the annual_inc column to analyse the outliers\n",
    "print(ln['annual_inc'].describe())\n",
    "plt.figure(figsize = [9,7])\n",
    "sns.boxplot(ln.annual_inc)\n",
    "plt.show()"
   ]
  },
  {
   "cell_type": "code",
   "execution_count": 188,
   "id": "6dc056c3",
   "metadata": {},
   "outputs": [],
   "source": [
    "#checking the annual_inc column to remove the outliers using quantile function\n",
    "ln = ln[ln[\"annual_inc\"] < ln[\"annual_inc\"].quantile(0.98)]"
   ]
  },
  {
   "cell_type": "code",
   "execution_count": 189,
   "id": "3ccc10ba",
   "metadata": {},
   "outputs": [
    {
     "data": {
      "image/png": "[encoded data removed]",
      "text/plain": [
       "<Figure size 648x504 with 1 Axes>"
      ]
     },
     "metadata": {
      "needs_background": "light"
     },
     "output_type": "display_data"
    },
    {
     "data": {
      "text/plain": [
       "count     36345.000000\n",
       "mean      64479.367855\n",
       "std       31808.231020\n",
       "min        4000.000000\n",
       "25%       41000.000000\n",
       "50%       58608.000000\n",
       "75%       80000.000000\n",
       "max      184000.000000\n",
       "Name: annual_inc, dtype: float64"
      ]
     },
     "execution_count": 189,
     "metadata": {},
     "output_type": "execute_result"
    }
   ],
   "source": [
    "# Plotting a boxplot for the annual_inc to see the distribution range\n",
    "plt.figure(figsize = [9,7])\n",
    "sns.boxplot(ln.annual_inc)\n",
    "plt.show()\n",
    "ln['annual_inc'].describe()"
   ]
  },
  {
   "cell_type": "code",
   "execution_count": 190,
   "id": "e84059ff",
   "metadata": {},
   "outputs": [
    {
     "data": {
      "text/plain": [
       "Text(0.5, 1.0, 'Funded Amount Inv')"
      ]
     },
     "execution_count": 190,
     "metadata": {},
     "output_type": "execute_result"
    },
    {
     "data": {
      "image/png": "[encoded data removed]",
      "text/plain": [
       "<Figure size 432x288 with 3 Axes>"
      ]
     },
     "metadata": {
      "needs_background": "light"
     },
     "output_type": "display_data"
    }
   ],
   "source": [
    "# Analysing the Loan_amt, Funded_amt and Funded_amnt_inv using a scatter plot\n",
    "fig, ax = plt.subplots(ncols=3, sharey=True)\n",
    "\n",
    "loan_amnt = ax[0].scatter(ln.index,ln.loan_amnt)\n",
    "loan_amnt.set_label(\"Loan Amount\")\n",
    "loan_amnt.set_color(\"Green\")\n",
    "ax[0].set_title('Loan Amount')\n",
    "\n",
    "funded_amnt = ax[1].scatter(ln.index,ln.funded_amnt)\n",
    "funded_amnt.set_label(\"Funded Amount\")\n",
    "funded_amnt.set_color(\"purple\")\n",
    "ax[1].set_title('Funded Amount')\n",
    "\n",
    "funded_amnt_inv = ax[2].scatter(ln.index,ln.funded_amnt_inv)\n",
    "funded_amnt_inv.set_label(\"Funded Amount Inv\")\n",
    "funded_amnt_inv.set_color(\"red\")\n",
    "ax[2].set_title('Funded Amount Inv')"
   ]
  },
  {
   "cell_type": "code",
   "execution_count": 191,
   "id": "2c9dd179",
   "metadata": {},
   "outputs": [],
   "source": [
    "# Observation from the plot is Loan amount, Funded Amount and Funded Amount Inv are having a similar proportion \n",
    "# in the scatter plot "
   ]
  },
  {
   "cell_type": "code",
   "execution_count": 192,
   "id": "52e1a325",
   "metadata": {},
   "outputs": [
    {
     "data": {
      "image/png": "[encoded data removed]",
      "text/plain": [
       "<Figure size 432x288 with 1 Axes>"
      ]
     },
     "metadata": {
      "needs_background": "light"
     },
     "output_type": "display_data"
    }
   ],
   "source": [
    "#Plotting Distplot to check rate of interest\n",
    "sns.distplot(ln.int_rate)\n",
    "plt.show()"
   ]
  },
  {
   "cell_type": "markdown",
   "id": "847cce43",
   "metadata": {},
   "source": [
    "Observation:The distplot show that most of the Interest Rates on loans are between 10% - 14%"
   ]
  },
  {
   "cell_type": "markdown",
   "id": "a0a85661",
   "metadata": {},
   "source": [
    "# Bivariate analysis"
   ]
  },
  {
   "cell_type": "code",
   "execution_count": 193,
   "id": "d62986f6",
   "metadata": {},
   "outputs": [
    {
     "data": {
      "image/png": "[encoded data removed]",
      "text/plain": [
       "<Figure size 1440x720 with 1 Axes>"
      ]
     },
     "metadata": {
      "needs_background": "light"
     },
     "output_type": "display_data"
    }
   ],
   "source": [
    "# Comparing the Grade and Loan Amount using boxplot\n",
    "\n",
    "plt.figure(figsize = [20,10])\n",
    "sns.boxplot(ln.grade,ln.loan_amnt)\n",
    "plt.show()"
   ]
  },
  {
   "cell_type": "markdown",
   "id": "7b4ff669",
   "metadata": {},
   "source": [
    "Observation: The Grades A,B & C are having lesser loan amounts comparing to Grades F & G.  Grades F & G are taking higher loan amounts"
   ]
  },
  {
   "cell_type": "code",
   "execution_count": 194,
   "id": "7b1f0244",
   "metadata": {},
   "outputs": [
    {
     "data": {
      "text/html": [
       "<div>\n",
       "<style scoped>\n",
       "    .dataframe tbody tr th:only-of-type {\n",
       "        vertical-align: middle;\n",
       "    }\n",
       "\n",
       "    .dataframe tbody tr th {\n",
       "        vertical-align: top;\n",
       "    }\n",
       "\n",
       "    .dataframe thead th {\n",
       "        text-align: right;\n",
       "    }\n",
       "</style>\n",
       "<table border=\"1\" class=\"dataframe\">\n",
       "  <thead>\n",
       "    <tr style=\"text-align: right;\">\n",
       "      <th>loan_status</th>\n",
       "      <th>purpose</th>\n",
       "      <th>Charged Off</th>\n",
       "      <th>Current</th>\n",
       "      <th>Fully Paid</th>\n",
       "      <th>Purpose Total</th>\n",
       "      <th>Chargedoff_Ratio</th>\n",
       "    </tr>\n",
       "  </thead>\n",
       "  <tbody>\n",
       "    <tr>\n",
       "      <th>11</th>\n",
       "      <td>small_business</td>\n",
       "      <td>364.0</td>\n",
       "      <td>62.0</td>\n",
       "      <td>988.0</td>\n",
       "      <td>1414.0</td>\n",
       "      <td>0.257426</td>\n",
       "    </tr>\n",
       "    <tr>\n",
       "      <th>10</th>\n",
       "      <td>renewable_energy</td>\n",
       "      <td>14.0</td>\n",
       "      <td>1.0</td>\n",
       "      <td>68.0</td>\n",
       "      <td>83.0</td>\n",
       "      <td>0.168675</td>\n",
       "    </tr>\n",
       "    <tr>\n",
       "      <th>3</th>\n",
       "      <td>educational</td>\n",
       "      <td>47.0</td>\n",
       "      <td>0.0</td>\n",
       "      <td>240.0</td>\n",
       "      <td>287.0</td>\n",
       "      <td>0.163763</td>\n",
       "    </tr>\n",
       "    <tr>\n",
       "      <th>7</th>\n",
       "      <td>medical</td>\n",
       "      <td>96.0</td>\n",
       "      <td>10.0</td>\n",
       "      <td>517.0</td>\n",
       "      <td>623.0</td>\n",
       "      <td>0.154093</td>\n",
       "    </tr>\n",
       "    <tr>\n",
       "      <th>5</th>\n",
       "      <td>house</td>\n",
       "      <td>51.0</td>\n",
       "      <td>13.0</td>\n",
       "      <td>270.0</td>\n",
       "      <td>334.0</td>\n",
       "      <td>0.152695</td>\n",
       "    </tr>\n",
       "    <tr>\n",
       "      <th>9</th>\n",
       "      <td>other</td>\n",
       "      <td>547.0</td>\n",
       "      <td>111.0</td>\n",
       "      <td>2936.0</td>\n",
       "      <td>3594.0</td>\n",
       "      <td>0.152198</td>\n",
       "    </tr>\n",
       "    <tr>\n",
       "      <th>8</th>\n",
       "      <td>moving</td>\n",
       "      <td>80.0</td>\n",
       "      <td>6.0</td>\n",
       "      <td>442.0</td>\n",
       "      <td>528.0</td>\n",
       "      <td>0.151515</td>\n",
       "    </tr>\n",
       "    <tr>\n",
       "      <th>2</th>\n",
       "      <td>debt_consolidation</td>\n",
       "      <td>2535.0</td>\n",
       "      <td>550.0</td>\n",
       "      <td>14398.0</td>\n",
       "      <td>17483.0</td>\n",
       "      <td>0.144998</td>\n",
       "    </tr>\n",
       "    <tr>\n",
       "      <th>12</th>\n",
       "      <td>vacation</td>\n",
       "      <td>49.0</td>\n",
       "      <td>4.0</td>\n",
       "      <td>285.0</td>\n",
       "      <td>338.0</td>\n",
       "      <td>0.144970</td>\n",
       "    </tr>\n",
       "    <tr>\n",
       "      <th>4</th>\n",
       "      <td>home_improvement</td>\n",
       "      <td>294.0</td>\n",
       "      <td>85.0</td>\n",
       "      <td>2237.0</td>\n",
       "      <td>2616.0</td>\n",
       "      <td>0.112385</td>\n",
       "    </tr>\n",
       "    <tr>\n",
       "      <th>0</th>\n",
       "      <td>car</td>\n",
       "      <td>151.0</td>\n",
       "      <td>48.0</td>\n",
       "      <td>1243.0</td>\n",
       "      <td>1442.0</td>\n",
       "      <td>0.104716</td>\n",
       "    </tr>\n",
       "    <tr>\n",
       "      <th>1</th>\n",
       "      <td>credit_card</td>\n",
       "      <td>480.0</td>\n",
       "      <td>99.0</td>\n",
       "      <td>4154.0</td>\n",
       "      <td>4733.0</td>\n",
       "      <td>0.101416</td>\n",
       "    </tr>\n",
       "    <tr>\n",
       "      <th>6</th>\n",
       "      <td>major_purchase</td>\n",
       "      <td>191.0</td>\n",
       "      <td>35.0</td>\n",
       "      <td>1757.0</td>\n",
       "      <td>1983.0</td>\n",
       "      <td>0.096319</td>\n",
       "    </tr>\n",
       "    <tr>\n",
       "      <th>13</th>\n",
       "      <td>wedding</td>\n",
       "      <td>85.0</td>\n",
       "      <td>20.0</td>\n",
       "      <td>782.0</td>\n",
       "      <td>887.0</td>\n",
       "      <td>0.095829</td>\n",
       "    </tr>\n",
       "  </tbody>\n",
       "</table>\n",
       "</div>"
      ],
      "text/plain": [
       "loan_status             purpose  Charged Off  Current  Fully Paid  \\\n",
       "11               small_business        364.0     62.0       988.0   \n",
       "10             renewable_energy         14.0      1.0        68.0   \n",
       "3                   educational         47.0      0.0       240.0   \n",
       "7                       medical         96.0     10.0       517.0   \n",
       "5                         house         51.0     13.0       270.0   \n",
       "9                         other        547.0    111.0      2936.0   \n",
       "8                        moving         80.0      6.0       442.0   \n",
       "2            debt_consolidation       2535.0    550.0     14398.0   \n",
       "12                     vacation         49.0      4.0       285.0   \n",
       "4              home_improvement        294.0     85.0      2237.0   \n",
       "0                           car        151.0     48.0      1243.0   \n",
       "1                   credit_card        480.0     99.0      4154.0   \n",
       "6                major_purchase        191.0     35.0      1757.0   \n",
       "13                      wedding         85.0     20.0       782.0   \n",
       "\n",
       "loan_status  Purpose Total  Chargedoff_Ratio  \n",
       "11                  1414.0          0.257426  \n",
       "10                    83.0          0.168675  \n",
       "3                    287.0          0.163763  \n",
       "7                    623.0          0.154093  \n",
       "5                    334.0          0.152695  \n",
       "9                   3594.0          0.152198  \n",
       "8                    528.0          0.151515  \n",
       "2                  17483.0          0.144998  \n",
       "12                   338.0          0.144970  \n",
       "4                   2616.0          0.112385  \n",
       "0                   1442.0          0.104716  \n",
       "1                   4733.0          0.101416  \n",
       "6                   1983.0          0.096319  \n",
       "13                   887.0          0.095829  "
      ]
     },
     "execution_count": 194,
     "metadata": {},
     "output_type": "execute_result"
    }
   ],
   "source": [
    "# Deriving Charged-off ratio using the Charged Off values against the Total Values\n",
    "\n",
    "ln_pur_loans = ln.groupby(['purpose', 'loan_status']).loan_status.count().unstack().fillna(0).reset_index()\n",
    "ln_pur_loans['Purpose Total'] = ln_pur_loans['Charged Off'] + ln_pur_loans['Current'] + ln_pur_loans['Fully Paid'] \n",
    "ln_pur_loans['Chargedoff_Ratio'] = ln_pur_loans['Charged Off'] / ln_pur_loans['Purpose Total']\n",
    "ln_pur_loans.sort_values('Chargedoff_Ratio', ascending=False)"
   ]
  },
  {
   "cell_type": "code",
   "execution_count": 195,
   "id": "e3cc07e0",
   "metadata": {},
   "outputs": [
    {
     "data": {
      "text/plain": [
       "<function matplotlib.pyplot.show(close=None, block=None)>"
      ]
     },
     "execution_count": 195,
     "metadata": {},
     "output_type": "execute_result"
    },
    {
     "data": {
      "image/png": "[encoded data removed]",
      "text/plain": [
       "<Figure size 432x288 with 1 Axes>"
      ]
     },
     "metadata": {
      "needs_background": "light"
     },
     "output_type": "display_data"
    }
   ],
   "source": [
    "#Linechart depicts and compares both Purpose and Chargedoff_ratio\n",
    "plt.plot(ln_pur_loans.Chargedoff_Ratio,ln_pur_loans.purpose)\n",
    "\n",
    "# Adding and formatting title\n",
    "plt.title(\"Comparison of Charged_off_ratio and Purpose \\n\", fontdict={'fontsize': 18, 'fontweight' : 6, 'color' : 'Green'})\n",
    "\n",
    "# Labeling Axes\n",
    "plt.xlabel(\"Chargedoff_Ratio\", fontdict={'fontsize': 12, 'fontweight' : 5, 'color' : 'Brown'})\n",
    "plt.ylabel(\"Purpose\", fontdict={'fontsize': 12, 'fontweight' : 5, 'color' : 'Brown'} )\n",
    "\n",
    "plt.show"
   ]
  },
  {
   "cell_type": "code",
   "execution_count": 196,
   "id": "856cf84c",
   "metadata": {},
   "outputs": [],
   "source": [
    "# Observation : From the above line graph we can find that Small Business category has the highest Ratio\n",
    "# From this Small Business contributes to the higher loan amount "
   ]
  },
  {
   "cell_type": "markdown",
   "id": "28e7c5ae",
   "metadata": {},
   "source": [
    "### Multivariate analysis"
   ]
  },
  {
   "cell_type": "code",
   "execution_count": 197,
   "id": "a8da71fd",
   "metadata": {},
   "outputs": [
    {
     "data": {
      "text/plain": [
       "<AxesSubplot:>"
      ]
     },
     "execution_count": 197,
     "metadata": {},
     "output_type": "execute_result"
    },
    {
     "data": {
      "image/png": "[encoded data removed]",
      "text/plain": [
       "<Figure size 1008x1224 with 2 Axes>"
      ]
     },
     "metadata": {
      "needs_background": "light"
     },
     "output_type": "display_data"
    }
   ],
   "source": [
    "# Analysing different Target Variables and plotting a Correlation map for each of them using Heat Map\n",
    "plt.figure(figsize=(14,17))\n",
    "cont_var= ['loan_amnt', 'int_rate', 'installment','emp_length', 'annual_inc','dti', 'delinq_2yrs', 'inq_last_6mths', 'open_acc', 'pub_rec', 'revol_bal', 'revol_util','total_acc', 'last_pymnt_amnt', 'pub_rec_bankruptcies']\n",
    "corr = ln[cont_var].corr()\n",
    "sns.heatmap(corr, annot=True, cmap = \"Greens\", center=0.5)"
   ]
  },
  {
   "cell_type": "code",
   "execution_count": 198,
   "id": "7dfd96d2",
   "metadata": {},
   "outputs": [],
   "source": [
    "# Observations :\n",
    "# Loan Amount and Installments are positively correlated\n",
    "# Pub_Rec and Pub_rec_bankruptcies are positively correlated\n",
    "# Annual income and Debt income Ratio is negatively correlated\n",
    "# Employee number of years experience and annual income are positively correlated"
   ]
  },
  {
   "cell_type": "code",
   "execution_count": null,
   "id": "20db13fc",
   "metadata": {},
   "outputs": [],
   "source": []
  }
 ],
 "metadata": {
  "kernelspec": {
   "display_name": "Python 3 (ipykernel)",
   "language": "python",
   "name": "python3"
  },
  "language_info": {
   "codemirror_mode": {
    "name": "ipython",
    "version": 3
   },
   "file_extension": ".py",
   "mimetype": "text/x-python",
   "name": "python",
   "nbconvert_exporter": "python",
   "pygments_lexer": "ipython3",
   "version": "3.9.7"
  }
 },
 "nbformat": 4,
 "nbformat_minor": 5
}
